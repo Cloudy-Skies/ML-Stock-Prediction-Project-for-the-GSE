{
 "cells": [
  {
   "cell_type": "code",
   "execution_count": 8,
   "metadata": {},
   "outputs": [
    {
     "ename": "ModuleNotFoundError",
     "evalue": "No module named 'yfinance'",
     "output_type": "error",
     "traceback": [
      "\u001b[1;31m---------------------------------------------------------------------------\u001b[0m",
      "\u001b[1;31mModuleNotFoundError\u001b[0m                       Traceback (most recent call last)",
      "\u001b[1;32m<ipython-input-8-af166b4acc4d>\u001b[0m in \u001b[0;36m<module>\u001b[1;34m\u001b[0m\n\u001b[0;32m      1\u001b[0m \u001b[1;32mimport\u001b[0m \u001b[0mpandas\u001b[0m \u001b[1;32mas\u001b[0m \u001b[0mpd\u001b[0m\u001b[1;33m\u001b[0m\u001b[1;33m\u001b[0m\u001b[0m\n\u001b[0;32m      2\u001b[0m \u001b[1;32mimport\u001b[0m \u001b[0mmatplotlib\u001b[0m\u001b[1;33m.\u001b[0m\u001b[0mpyplot\u001b[0m \u001b[1;32mas\u001b[0m \u001b[0mplotting\u001b[0m\u001b[1;33m\u001b[0m\u001b[1;33m\u001b[0m\u001b[0m\n\u001b[1;32m----> 3\u001b[1;33m \u001b[1;32mimport\u001b[0m \u001b[0myfinance\u001b[0m\u001b[1;33m\u001b[0m\u001b[1;33m\u001b[0m\u001b[0m\n\u001b[0m\u001b[0;32m      4\u001b[0m \u001b[1;33m\u001b[0m\u001b[0m\n\u001b[0;32m      5\u001b[0m \u001b[1;31m#creating dataframe\u001b[0m\u001b[1;33m\u001b[0m\u001b[1;33m\u001b[0m\u001b[1;33m\u001b[0m\u001b[0m\n",
      "\u001b[1;31mModuleNotFoundError\u001b[0m: No module named 'yfinance'"
     ]
    }
   ],
   "source": [
    "import pandas as pd\n",
    "import matplotlib.pyplot as plotting\n",
    "import yfinance\n",
    "\n",
    "#creating dataframe\n",
    "df = pd.read_csv(\"Data\\AADS2.csv\")\n",
    "\n",
    "#created vars for start and end dates\n",
    "s_date =pd.to_datetime('2007-06-25')\n",
    "e_date=pd.to_datetime('2022-09-16')\n",
    "\n",
    "# df['Date'] = pd.to_datetime(df['Date'])\n",
    "# new_df = (df['Date']>= s_date)&(df['Date']<=e_date)\n",
    "\n",
    "# df1 = df.loc[new_df]\n",
    "# stock_data = df1.set_index('Date')\n",
    "# top_plt = plotting.subplot2grid((5,4), (0, 0), rowspan=3, colspan=4)\n",
    "# top_plt.plot(stock_data.index, stock_data[\"Close\"])\n",
    "# plotting.title('Historical stock prices of AngloGold Ashanti. [25-06-2007 to 16-09-2022]')\n",
    "# bottom_plt = plotting.subplot2grid((5,4), (3,0), rowspan=1, colspan=4)\n",
    "# bottom_plt.bar(stock_data.index, stock_data['Total Shares Traded'])\n",
    "# plotting.title('\\nAngloGold Ashanti. Shares traded', y=-0.60)\n",
    "# plotting.gcf().set_size_inches(12,8)\n",
    "\n",
    "\n"
   ]
  }
 ],
 "metadata": {
  "kernelspec": {
   "display_name": "Python 3.8.5 ('base')",
   "language": "python",
   "name": "python3"
  },
  "language_info": {
   "codemirror_mode": {
    "name": "ipython",
    "version": 3
   },
   "file_extension": ".py",
   "mimetype": "text/x-python",
   "name": "python",
   "nbconvert_exporter": "python",
   "pygments_lexer": "ipython3",
   "version": "3.8.5"
  },
  "vscode": {
   "interpreter": {
    "hash": "ad2bdc8ecc057115af97d19610ffacc2b4e99fae6737bb82f5d7fb13d2f2c186"
   }
  }
 },
 "nbformat": 4,
 "nbformat_minor": 4
}
